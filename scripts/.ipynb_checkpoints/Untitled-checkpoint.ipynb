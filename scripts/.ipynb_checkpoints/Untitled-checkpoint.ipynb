{
 "cells": [
  {
   "cell_type": "code",
   "execution_count": 1,
   "metadata": {},
   "outputs": [],
   "source": [
    "import ast\n",
    "import sys\n",
    "import os\n",
    "import pandas as pd\n",
    "import numpy as np\n",
    "import matplotlib.pyplot as plt\n",
    "DIR = os.path.abspath(os.path.pardir)"
   ]
  },
  {
   "cell_type": "code",
   "execution_count": 6,
   "metadata": {},
   "outputs": [],
   "source": [
    "def list_to_int(list):\n",
    "    res = []\n",
    "    for x in list:\n",
    "        try:\n",
    "            res.append(int(x))\n",
    "        except:\n",
    "            continue\n",
    "    return res\n",
    "\n",
    "def extract_info(numClientes):\n",
    "    filename = DIR + '/TiemposRonda{}.csv'\n",
    "    file = open(filename.format(numClientes),'r')\n",
    "    \n",
    "    file.readline()\n",
    "    corridas = {}\n",
    "    i = 1\n",
    "    \n",
    "    for line in file:\n",
    "        corrida = line.split(',')\n",
    "        corridas[str(i)] = list_to_int(corrida)\n",
    "        i += 1\n",
    "        \n",
    "    return corridas\n",
    "\n",
    "def get_average(_dict):\n",
    "    avg = {}\n",
    "    for key in _dict.keys():\n",
    "        avg[key] = np.mean(_dict[key])\n",
    "    return avg\n",
    "\n",
    "def get_stdDev(_dict):\n",
    "    stdDev = {}\n",
    "    for key in _dict.keys():\n",
    "        stdDev[key] = np.std(_dict[key])\n",
    "    return stdDev\n",
    "\n",
    "def process_info(numClientes):\n",
    "    data = {}\n",
    "    data['Datos'] = extract_info(numClientes)\n",
    "    data['Promedios'] = get_average(data['Datos'])\n",
    "    data['Desviacion'] = get_stdDev(data['Datos'])\n",
    "    return data\n",
    "\n",
    "def graph(title, filename, _dict, xlabel):\n",
    "    path = os.path.join(DIR,'graphs')\n",
    "    ticks = list(_dict.keys())\n",
    "    data = list(_dict.values())\n",
    "    n = len(_dict)\n",
    "    \n",
    "    bars = plt.bar(range(n), data, align = 'center', linewidth = 0)\n",
    "    plt.xticks(range(n), ticks)\n",
    "    \n",
    "    plt.xlabel(xlabel)\n",
    "    plt.ylabel('milisegundos')\n",
    "    plt.title(title, pad = 20, fontsize = 14)\n",
    "    \n",
    "    for spine in plt.gca().spines.values():\n",
    "        spine.set_visible(False)\n",
    "    \n",
    "    for bari in bars:\n",
    "        height = bari.get_height()\n",
    "        plt.gca().text(bari.get_x() + bari.get_width()/2, bari.get_height()-1, str(int(height)),\n",
    "                     ha='center', color='white', fontsize=10)\n",
    "        \n",
    "    plt.savefig(path + '/' + filename, dpi = 300)\n",
    "    plt.show()\n",
    "    "
   ]
  },
  {
   "cell_type": "code",
   "execution_count": 4,
   "metadata": {},
   "outputs": [],
   "source": [
    "def main():\n",
    "    numClientes = [20,50,80,100,120]\n",
    "    title = '{} de {} clientes en 10 corridas'\n",
    "    xlabel = 'Número de corrida'\n",
    "    \n",
    "    total = {'Promedio':{}, 'Desviacion':{}}\n",
    "    \n",
    "    for n in numClientes:\n",
    "        _dict = process_info(n)\n",
    "\n",
    "        filename_avg = 'Avg' + str(n) + '.png'\n",
    "        title_avg = title.format('Promedio', n)\n",
    "        graph(title_avg, filename_avg, _dict['Promedios'], xlabel)\n",
    "\n",
    "        filename_std = 'StdDev' + str(n) + '.png'\n",
    "        title_std = title.format('Desviación Estándar', n)\n",
    "        graph(title_std, filename_std, _dict['Desviacion'], xlabel)\n",
    "        \n",
    "        total['Promedio'][str(n)] = np.mean(_dict['Promedios'])\n",
    "        total['Desviacion'][str(n)] = np.std(_dict['Desviacion'])\n",
    "        \n",
    "    graph('Promedios', 'Promedios.png', total['Promedio'], 'Número de clientes')\n",
    "    graph('Desviacion Estándar', 'Desviacion.png', total['Desviacion'], 'Número de clientes')"
   ]
  },
  {
   "cell_type": "code",
   "execution_count": 5,
   "metadata": {},
   "outputs": [
    {
     "data": {
      "image/png": "[encoded data removed]",
      "text/plain": [
       "<Figure size 432x288 with 1 Axes>"
      ]
     },
     "metadata": {},
     "output_type": "display_data"
    },
    {
     "data": {
      "image/png": "[encoded data removed]",
      "text/plain": [
       "<Figure size 432x288 with 1 Axes>"
      ]
     },
     "metadata": {},
     "output_type": "display_data"
    },
    {
     "ename": "TypeError",
     "evalue": "unsupported operand type(s) for /: 'dict' and 'int'",
     "output_type": "error",
     "traceback": [
      "\u001b[0;31m---------------------------------------------------------------------------\u001b[0m",
      "\u001b[0;31mTypeError\u001b[0m                                 Traceback (most recent call last)",
      "\u001b[0;32m<ipython-input-5-263240bbee7e>\u001b[0m in \u001b[0;36m<module>\u001b[0;34m()\u001b[0m\n\u001b[0;32m----> 1\u001b[0;31m \u001b[0mmain\u001b[0m\u001b[0;34m(\u001b[0m\u001b[0;34m)\u001b[0m\u001b[0;34m\u001b[0m\u001b[0;34m\u001b[0m\u001b[0m\n\u001b[0m",
      "\u001b[0;32m<ipython-input-4-4a4c81808aa6>\u001b[0m in \u001b[0;36mmain\u001b[0;34m()\u001b[0m\n\u001b[1;32m     17\u001b[0m         \u001b[0mgraph\u001b[0m\u001b[0;34m(\u001b[0m\u001b[0mtitle_std\u001b[0m\u001b[0;34m,\u001b[0m \u001b[0mfilename_std\u001b[0m\u001b[0;34m,\u001b[0m \u001b[0m_dict\u001b[0m\u001b[0;34m[\u001b[0m\u001b[0;34m'Desviacion'\u001b[0m\u001b[0;34m]\u001b[0m\u001b[0;34m,\u001b[0m \u001b[0mxlabel\u001b[0m\u001b[0;34m)\u001b[0m\u001b[0;34m\u001b[0m\u001b[0;34m\u001b[0m\u001b[0m\n\u001b[1;32m     18\u001b[0m \u001b[0;34m\u001b[0m\u001b[0m\n\u001b[0;32m---> 19\u001b[0;31m         \u001b[0mtotal\u001b[0m\u001b[0;34m[\u001b[0m\u001b[0;34m'Promedio'\u001b[0m\u001b[0;34m]\u001b[0m\u001b[0;34m[\u001b[0m\u001b[0mstr\u001b[0m\u001b[0;34m(\u001b[0m\u001b[0mn\u001b[0m\u001b[0;34m)\u001b[0m\u001b[0;34m]\u001b[0m \u001b[0;34m=\u001b[0m \u001b[0mnp\u001b[0m\u001b[0;34m.\u001b[0m\u001b[0mmean\u001b[0m\u001b[0;34m(\u001b[0m\u001b[0m_dict\u001b[0m\u001b[0;34m[\u001b[0m\u001b[0;34m'Promedios'\u001b[0m\u001b[0;34m]\u001b[0m\u001b[0;34m)\u001b[0m\u001b[0;34m\u001b[0m\u001b[0;34m\u001b[0m\u001b[0m\n\u001b[0m\u001b[1;32m     20\u001b[0m         \u001b[0mtotal\u001b[0m\u001b[0;34m[\u001b[0m\u001b[0;34m'Desviacion'\u001b[0m\u001b[0;34m]\u001b[0m\u001b[0;34m[\u001b[0m\u001b[0mstr\u001b[0m\u001b[0;34m(\u001b[0m\u001b[0mn\u001b[0m\u001b[0;34m)\u001b[0m\u001b[0;34m]\u001b[0m \u001b[0;34m=\u001b[0m \u001b[0mnp\u001b[0m\u001b[0;34m.\u001b[0m\u001b[0mmean\u001b[0m\u001b[0;34m(\u001b[0m\u001b[0m_dict\u001b[0m\u001b[0;34m[\u001b[0m\u001b[0;34m'Promedios'\u001b[0m\u001b[0;34m]\u001b[0m\u001b[0;34m)\u001b[0m\u001b[0;34m\u001b[0m\u001b[0;34m\u001b[0m\u001b[0m\n\u001b[1;32m     21\u001b[0m \u001b[0;34m\u001b[0m\u001b[0m\n",
      "\u001b[0;32m/anaconda3/lib/python3.6/site-packages/numpy/core/fromnumeric.py\u001b[0m in \u001b[0;36mmean\u001b[0;34m(a, axis, dtype, out, keepdims)\u001b[0m\n\u001b[1;32m   2955\u001b[0m \u001b[0;34m\u001b[0m\u001b[0m\n\u001b[1;32m   2956\u001b[0m     return _methods._mean(a, axis=axis, dtype=dtype,\n\u001b[0;32m-> 2957\u001b[0;31m                           out=out, **kwargs)\n\u001b[0m\u001b[1;32m   2958\u001b[0m \u001b[0;34m\u001b[0m\u001b[0m\n\u001b[1;32m   2959\u001b[0m \u001b[0;34m\u001b[0m\u001b[0m\n",
      "\u001b[0;32m/anaconda3/lib/python3.6/site-packages/numpy/core/_methods.py\u001b[0m in \u001b[0;36m_mean\u001b[0;34m(a, axis, dtype, out, keepdims)\u001b[0m\n\u001b[1;32m     80\u001b[0m             \u001b[0mret\u001b[0m \u001b[0;34m=\u001b[0m \u001b[0mret\u001b[0m\u001b[0;34m.\u001b[0m\u001b[0mdtype\u001b[0m\u001b[0;34m.\u001b[0m\u001b[0mtype\u001b[0m\u001b[0;34m(\u001b[0m\u001b[0mret\u001b[0m \u001b[0;34m/\u001b[0m \u001b[0mrcount\u001b[0m\u001b[0;34m)\u001b[0m\u001b[0;34m\u001b[0m\u001b[0;34m\u001b[0m\u001b[0m\n\u001b[1;32m     81\u001b[0m     \u001b[0;32melse\u001b[0m\u001b[0;34m:\u001b[0m\u001b[0;34m\u001b[0m\u001b[0;34m\u001b[0m\u001b[0m\n\u001b[0;32m---> 82\u001b[0;31m         \u001b[0mret\u001b[0m \u001b[0;34m=\u001b[0m \u001b[0mret\u001b[0m \u001b[0;34m/\u001b[0m \u001b[0mrcount\u001b[0m\u001b[0;34m\u001b[0m\u001b[0;34m\u001b[0m\u001b[0m\n\u001b[0m\u001b[1;32m     83\u001b[0m \u001b[0;34m\u001b[0m\u001b[0m\n\u001b[1;32m     84\u001b[0m     \u001b[0;32mreturn\u001b[0m \u001b[0mret\u001b[0m\u001b[0;34m\u001b[0m\u001b[0;34m\u001b[0m\u001b[0m\n",
      "\u001b[0;31mTypeError\u001b[0m: unsupported operand type(s) for /: 'dict' and 'int'"
     ]
    }
   ],
   "source": [
    "main()"
   ]
  },
  {
   "cell_type": "code",
   "execution_count": null,
   "metadata": {},
   "outputs": [],
   "source": [
    "title = 'Promedio de 50 clientes en 10 corridas'\n",
    "graph(title, 'Avg50.png', d['Promedios'], 'Número de corridas')"
   ]
  },
  {
   "cell_type": "code",
   "execution_count": null,
   "metadata": {},
   "outputs": [],
   "source": [
    "bars = plt.bar(range(len(avg)), list(avg.values()), align = 'center', linewidth = 0)\n",
    "plt.xticks(range(len(avg)), list(avg.keys()))\n",
    "\n",
    "plt.xlabel('Número de corrida')\n",
    "plt.ylabel('milisegundos')\n",
    "plt.title('Promedio de 50 clientes en 10 corridas', pad = 20, fontsize = 14)\n",
    "\n",
    "for spine in plt.gca().spines.values():\n",
    "    spine.set_visible(False)\n",
    "    \n",
    "for bari in bars:\n",
    "    height = bari.get_height()\n",
    "    plt.gca().text(bari.get_x() + bari.get_width()/2, bari.get_height()-1.5, str(int(height)),\n",
    "                 ha='center', color='white', fontsize=10)\n",
    "\n",
    "plt.show()"
   ]
  },
  {
   "cell_type": "code",
   "execution_count": null,
   "metadata": {},
   "outputs": [],
   "source": []
  }
 ],
 "metadata": {
  "kernelspec": {
   "display_name": "Python 3",
   "language": "python",
   "name": "python3"
  },
  "language_info": {
   "codemirror_mode": {
    "name": "ipython",
    "version": 3
   },
   "file_extension": ".py",
   "mimetype": "text/x-python",
   "name": "python",
   "nbconvert_exporter": "python",
   "pygments_lexer": "ipython3",
   "version": "3.6.8"
  }
 },
 "nbformat": 4,
 "nbformat_minor": 2
}
